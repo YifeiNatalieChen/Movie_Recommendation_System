{
 "cells": [
  {
   "cell_type": "markdown",
   "metadata": {
    "id": "_Hh5Aff0f-0n"
   },
   "source": [
    "# Final project"
   ]
  },
  {
   "cell_type": "markdown",
   "metadata": {
    "id": "fU0lC5gyf-0o"
   },
   "source": [
    "- Yifei Chen (yc3832)     yc3832@columbia.edu\n",
    "\n",
    "- Zujun Peng (zp2224)     zp2224@columbia.edu\n",
    "\n",
    "- Yu Liu (yl3738)         yl3738@columbia.edu"
   ]
  },
  {
   "cell_type": "markdown",
   "metadata": {
    "id": "bYNCncf4f-0p"
   },
   "source": [
    "## Business Objective\n",
    "\n",
    "### Overall Buisiness Objective\n",
    "Our overall objectvie is to apply various algorithms and models in the recommendation system to build a hybrid model that accurately predicts the user's rating on movies and make recommendation to them. Our model uses MovieLens latest datasets that collect preferences or tastes information from users previous rating as well as the genre information about the movies. Our primary and focusing objective of the hybrid model is to give a recommendation that reaches high accuracy and balance popularity, coverage, and novelty at the same time for all groups of using, including cold-start user.\n",
    "\n",
    "We believe that the accuracy, popularity, and item coverage will contribute to the business profit, one of the most important driving forces in real-world business operation, produced by the recommendation system.\n",
    "\n",
    "### Hybrid Model Outline\n",
    "To reach our overall objective, we build a hybrid model utilizing various algorithms including content-based algorithm, matrix facterization algorithm, and facterization machine algorithm. \n",
    "\n",
    "Our hybrid model is a switching model since we apply different algorithms to different group of users. To be more specific, we divide users into three groups by the number of their historical ratings in the record. For users with only a few ratings or cold-start users, we apply content-based algorithm to build their prediction and recommendation, Users with a moderate amount of ratings are funneled into a matrix facterization model. Finally, we utilize facterization machine to power users who have rated a lot of movies in our dataset. \n",
    "\n",
    "We believe this hybrid model is feasible and comprehensive frist because our matrix facterization algorithm performed well in HW2 with a high accuracy and coverage. Moreover, content-based model is a good choice for cold-start problem for items and even for users if user profile is complete. This feature has practical meaning since new movies comes out frequently in the median industry in real world. Furthermore, facterization machine algorithm that envoles more interactions among variables and data allow us to better explore the original data and thus produce better recommendation.\n",
    "\n",
    "### Evaluation Metrics\n",
    "To build a recommendation algorithm with high accuracy, we choose to evaluate our algorithms by two accuracy metrics. The primary accuracy metric is the error metric Root-Mean-Square Error (RMSE), and the secondary one is the ranking metric, Normalized Discounted Cumulative Gain (NDCG). In addition to accuracy metrics, we calculate the item coverage and list Top 10 movies that have been recommended most at the end of the evaluation. We believe this evaluation can help us balance the popularity and item coverage of recommendation to some extent. \n",
    "\n",
    "### Intended Users\n",
    "Since we build a hybrid model that applys different algorithms for users in different groups based on their historical ratings numbers, our intended users will be users with all levels of rating numbers. However, even though our model works for cold-start users, users with complte profile are preferred in order to make the content-based algorithm work well. Therefore, cold-start users with a few rating records may get more accurate and preferable recommendation if their profile information is complete or accessable from outside sources.\n",
    "\n",
    "### Other Business Rules\n",
    "During the sampling process for Homework 2, we remove movies rated less than a specific number of times (the default setting is 50). The number 50 is chosen by analyzing the rating counts over movies.  However, for the final project, we reduce this number to 30 since we now apply a content-based algorithm which works well for movie with a few ratings. However, we will remove movies with rating less than 30 becuase we believe that this number take popularity and coverage into consideration. Moreover, there are uncertainties about those movies' qualities for movies with few ratings. Recommending those movies to users might negatively affect users' opinions on our recommendation system. Therefore, we apply this sampling method to guarantee that we only recommend movies with at least 30 ratings in the rating records.\n",
    "\n",
    "### Coding and  Performance Requirements: \n",
    "Since our model is a hybrid model that contain more advanced and complex algorithm, we need to make our code as concise and reusable as possible as well as considering efficient data stucture and function implementation to reduce unnecessary waste of running time. More importantly, we need to keep the consistency of training, validation, and testing datset \n",
    "in order to build a well-structed and coherent hybrid model.\n",
    "\n",
    "Moreover, our model tries to balance time complexity and accuracy during the hyper-parameter tuning process and the evaluation process. Because of the large amount of rating data and limited computing power, we discard hyper-parameter values that contribute little to the overall accuracy while increasing the running time to a large extent. To ensure the overall efficiency during the model construction process, we first do a sanity check over a small dataset to ensure the algorithms work and then turn to a large dataset and evaluate the models.\n",
    "\n"
   ]
  },
  {
   "cell_type": "markdown",
   "metadata": {
    "id": "g5PKDym-XQJp"
   },
   "source": [
    "## Construction of Hybrid Model"
   ]
  },
  {
   "cell_type": "code",
   "execution_count": 1,
   "metadata": {
    "id": "VZVPp1uZf-0q"
   },
   "outputs": [],
   "source": [
    "# Package Installation\n",
    "import numpy as np\n",
    "import pandas as pd\n",
    "import matplotlib.pyplot as plt\n",
    "import seaborn as sns\n",
    "import random\n",
    "from sklearn.model_selection import train_test_split\n",
    "from sklearn.metrics import ndcg_score\n",
    "\n",
    "# Need to install pyspark\n",
    "from pyspark.ml.tuning import CrossValidator, ParamGridBuilder, TrainValidationSplit\n",
    "from pyspark.ml.evaluation import RegressionEvaluator\n",
    "from pyspark.ml.recommendation import ALS\n",
    "from pyspark.sql.session import SparkSession\n",
    "from pyspark.context import SparkContext\n",
    "#sc = SparkContext('local')\n",
    "#spark = SparkSession(sc)\n",
    "\n",
    "# Import packages for content-based recommender system\n",
    "from sklearn.feature_extraction.text import TfidfVectorizer\n",
    "from sklearn.metrics.pairwise import linear_kernel\n",
    "\n",
    "# Import packages for factorization machine\n",
    "from sklearn.preprocessing import OneHotEncoder, LabelBinarizer, normalize\n",
    "from pyfm import pylibfm\n",
    "from sklearn.metrics import mean_absolute_error, mean_squared_error\n",
    "from collections import defaultdict\n",
    "from sklearn.metrics import ndcg_score\n",
    "from sklearn.metrics import dcg_score"
   ]
  },
  {
   "cell_type": "markdown",
   "metadata": {
    "id": "7UBsdgeSXIVJ"
   },
   "source": [
    "### Read Data file\n",
    "We use two data files \"ratings.csv\" and \"movies.csv\" that contain data on user IDs, movie IDs, ratings, and movie genres in our model."
   ]
  },
  {
   "cell_type": "code",
   "execution_count": 2,
   "metadata": {
    "id": "TCS_blpEf-0r"
   },
   "outputs": [],
   "source": [
    "# Import and Pre-process the datasets\n",
    "ratings = pd.read_csv(\"./ratings.csv\")\n",
    "movies = pd.read_csv(\"./movies.csv\")\n",
    "\n",
    "# Replace 'no genres listed' with \"\"\n",
    "movies['genres'] = movies['genres'].replace(\"(no genres listed)\", '')\n",
    "movies['genres'] = movies['genres'].str.replace(\"|\", \" \")"
   ]
  },
  {
   "cell_type": "code",
   "execution_count": 3,
   "metadata": {
    "id": "JHPMfTJhf-0t",
    "outputId": "7e6af99d-84cb-4182-a5ab-5b815ae08997"
   },
   "outputs": [
    {
     "name": "stdout",
     "output_type": "stream",
     "text": [
      "<class 'pandas.core.frame.DataFrame'>\n",
      "RangeIndex: 27753444 entries, 0 to 27753443\n",
      "Data columns (total 4 columns):\n",
      " #   Column     Dtype  \n",
      "---  ------     -----  \n",
      " 0   userId     int64  \n",
      " 1   movieId    int64  \n",
      " 2   rating     float64\n",
      " 3   timestamp  int64  \n",
      "dtypes: float64(1), int64(3)\n",
      "memory usage: 847.0 MB\n",
      "<class 'pandas.core.frame.DataFrame'>\n",
      "RangeIndex: 58098 entries, 0 to 58097\n",
      "Data columns (total 3 columns):\n",
      " #   Column   Non-Null Count  Dtype \n",
      "---  ------   --------------  ----- \n",
      " 0   movieId  58098 non-null  int64 \n",
      " 1   title    58098 non-null  object\n",
      " 2   genres   58098 non-null  object\n",
      "dtypes: int64(1), object(2)\n",
      "memory usage: 1.3+ MB\n"
     ]
    }
   ],
   "source": [
    "# Exploration on the dataset\n",
    "ratings.info()\n",
    "ratings = ratings.drop(columns = ['timestamp'])\n",
    "movies.info()"
   ]
  },
  {
   "cell_type": "markdown",
   "metadata": {
    "id": "p_Q49vmdX3Be"
   },
   "source": [
    "### Exploratory Data Analysis on Users and Movies"
   ]
  },
  {
   "cell_type": "code",
   "execution_count": 4,
   "metadata": {
    "id": "gmdjnKvvf-0u",
    "outputId": "25a9d9e3-1ae0-4a30-d908-0f7f68a014d8"
   },
   "outputs": [
    {
     "data": {
      "image/png": "[encoded data removed]",
      "text/plain": [
       "<Figure size 432x288 with 1 Axes>"
      ]
     },
     "metadata": {
      "needs_background": "light"
     },
     "output_type": "display_data"
    }
   ],
   "source": [
    "# Exploratory Data Analysis on user\n",
    "user_count = ratings['userId'].value_counts()\n",
    "sns.distplot(user_count, bins = 130, axlabel = \"user rating count\",label=\"frequency\", kde = False).set_title(\"Frequency Distribution of User Rating Count\")\n",
    "plt.xlim(0, 1000)\n",
    "plt.show()"
   ]
  },
  {
   "cell_type": "code",
   "execution_count": 5,
   "metadata": {
    "id": "MdI8ygc2f-0v",
    "outputId": "1e39f2dc-e631-4aaf-b679-dce0b68af458"
   },
   "outputs": [
    {
     "data": {
      "image/png": "[encoded data removed]",
      "text/plain": [
       "<Figure size 432x288 with 1 Axes>"
      ]
     },
     "metadata": {
      "needs_background": "light"
     },
     "output_type": "display_data"
    }
   ],
   "source": [
    "# Exploratory Data Analysis on movie\n",
    "movie_count = ratings['movieId'].value_counts()\n",
    "sns.distplot(movie_count, bins=100, axlabel = \"movie rating count\",label='frequency', kde = False).set_title(\"Frequency Distribution of Movie Rating Count\")\n",
    "plt.xlim(0, 5000)\n",
    "plt.show()"
   ]
  },
  {
   "cell_type": "code",
   "execution_count": 6,
   "metadata": {
    "id": "ezPJk_7nf-0w",
    "outputId": "c77b6bd9-56f0-42cf-bb79-c17825b90fc6"
   },
   "outputs": [
    {
     "name": "stdout",
     "output_type": "stream",
     "text": [
      "Percentage of (movie rating count < 50) in (movie rating count < 1000) = 0.8112614596260859\n"
     ]
    },
    {
     "data": {
      "image/png": "[encoded data removed]",
      "text/plain": [
       "<Figure size 432x288 with 1 Axes>"
      ]
     },
     "metadata": {
      "needs_background": "light"
     },
     "output_type": "display_data"
    }
   ],
   "source": [
    "# Explore movie_count < 50\n",
    "print('Percentage of (movie rating count < 50) in (movie rating count < 1000) =', sum(movie_count<50)/sum(movie_count<1000))\n",
    "sns.distplot(movie_count[movie_count<50], bins=100, axlabel = \"movie rating count(<50)\",label='frequency', kde = False).set_title(\"Frequency Distribution of Movie Rating Count less than 50\")\n",
    "plt.show()"
   ]
  },
  {
   "cell_type": "markdown",
   "metadata": {
    "id": "Js0uqExVYDqW"
   },
   "source": [
    "### Data and Cross Validation Setup\n",
    "In this section, we write functions to sample dataset from the original file and set up cross validation.\n",
    "\n",
    "First, we write a function to sample data from the original data file. As we discussed before, we only keep movies that have been rated more than a specific number (default value is 30) to ensure the quality of movie recommendation as well as getting well-prepared for content-based algorithm."
   ]
  },
  {
   "cell_type": "code",
   "execution_count": 7,
   "metadata": {
    "id": "cudWVpI9f-0w"
   },
   "outputs": [],
   "source": [
    "def sample_dataset(rating, nuser, min_item=30):\n",
    "    \"\"\"This function will sample a data set from the original data file\n",
    "\n",
    "    Args:\n",
    "        rate(data frame): The original data file that we are sampling from\n",
    "        nuser(int): The number of user in the output sample\n",
    "        min_item: only select movie with min_item rates or more, default is 50\n",
    "\n",
    "    Returns:\n",
    "        A sample from the original data file\n",
    "    \"\"\"\n",
    "    data = rating.copy()\n",
    "    \n",
    "    # select users\n",
    "    user_rc = data.groupby(\"userId\").count()\n",
    "    user_rc.reset_index(inplace = True)\n",
    "    selectedu = user_rc.loc[:,'userId']\n",
    "    selectedu = selectedu.sample(n= nuser, random_state = 0)\n",
    "    data = data[data['userId'].isin(selectedu)]\n",
    "    \n",
    "    movie_rc = data.groupby(\"movieId\").count()\n",
    "    \n",
    "    # select movie with min_item number of rates or more\n",
    "    movie_rc.reset_index(inplace = True)\n",
    "    movie_rc = movie_rc.rename(columns = {\"rating\": \"count\"})\n",
    "    selectedm = movie_rc.loc[movie_rc['count'] > min_item, 'movieId']\n",
    "    data = data[data['movieId'].isin(selectedm)]\n",
    "    return data"
   ]
  },
  {
   "cell_type": "markdown",
   "metadata": {
    "id": "du5o_U9Gq1RX"
   },
   "source": [
    "The below functions transform the dataset into the proper form than can be used in the facterizatio machine. "
   ]
  },
  {
   "cell_type": "code",
   "execution_count": 8,
   "metadata": {
    "id": "f2ofP_OCqy-p"
   },
   "outputs": [],
   "source": [
    "def data_for_fm(movies_data,ratings_data):\n",
    "    \"\"\"\n",
    "    This function transform original data frame into a new data frame that will be used for faterization machine.\n",
    "    Args:\n",
    "      movies_data: data for movies and genres\n",
    "      ratings_data: data for users, movies, and ratings\n",
    "    Return:\n",
    "      A new data frame that can be used in the facterization machine algorithm\n",
    "    \"\"\"\n",
    "    df = movies_data.merge(ratings_data, on = 'movieId')\n",
    "    g = df['genres']\n",
    "    df_dummy = pd.get_dummies(g.apply(pd.Series).stack()).sum(level=0) \n",
    "    df = df[['movieId','userId','rating']]\n",
    "    df_new = pd.concat([df, df_dummy], axis='columns')\n",
    "    return df_new"
   ]
  },
  {
   "cell_type": "code",
   "execution_count": 9,
   "metadata": {
    "id": "oEiorF7rrlTh"
   },
   "outputs": [],
   "source": [
    "def prepare_data_fm(movies_data,ratings_data):\n",
    "    \"\"\"\n",
    "    This is also set up data for facterization machine\n",
    "    \"\"\"\n",
    "    X = data_for_fm(movies_data,ratings_data)\n",
    "    y = np.array(X['rating'])\n",
    "    X = X.drop(['rating'], axis=1)\n",
    "    return X, y"
   ]
  },
  {
   "cell_type": "markdown",
   "metadata": {
    "id": "4jcgPkYdZ8wE"
   },
   "source": [
    "We then write the function to set up cross validation by dividing the sample dataset into training set, validation set, and test set with chosen ratio for each set."
   ]
  },
  {
   "cell_type": "code",
   "execution_count": 14,
   "metadata": {
    "id": "8l9PixWIZ0bW"
   },
   "outputs": [],
   "source": [
    "# Train, test, validation split (validation ratio represents the ratio it holds in the training set)\n",
    "def train_test_validation(dataset, train_ratio, test_ratio, validation_ratio):\n",
    "    \"\"\"This function set up the data set for cross validaton\n",
    "\n",
    "    Args:\n",
    "    daataset: original sample data\n",
    "    train_ratio: ratio of training set\n",
    "    test_ratio: ratio of test set\n",
    "    validation_ratio: ratio of validation set\n",
    "\n",
    "    Returns:\n",
    "    Training dataset, testing dataset, and validation dataset\n",
    "    \"\"\"\n",
    "    test_ratio = round(test_ratio/(1-train_ratio),2)\n",
    "    train_df = pd.DataFrame()\n",
    "    test_df = pd.DataFrame()\n",
    "    validation_df = pd.DataFrame()\n",
    "    user_id_list = dataset['userId'].unique()\n",
    "    for i in user_id_list:\n",
    "        x = dataset.loc[dataset['userId'] == i]\n",
    "        train = x.sample(frac = train_ratio, random_state = 0)\n",
    "        rest = x.drop(train.index)\n",
    "        test = rest.sample(frac = test_ratio, random_state = 0)\n",
    "        validation = rest.drop(test.index)\n",
    "        train_df = train_df.append(train)\n",
    "        test_df = test_df.append(test)\n",
    "        validation_df = validation_df.append(validation)\n",
    "    return train_df, test_df, validation_df"
   ]
  },
  {
   "cell_type": "markdown",
   "metadata": {
    "id": "UrarPyCnbHDY"
   },
   "source": [
    "Now we begin to sample our data from the original data file from the MovieLens dataset."
   ]
  },
  {
   "cell_type": "code",
   "execution_count": 15,
   "metadata": {
    "id": "_BOLITjZf-0w",
    "outputId": "c187bfd5-2315-4e75-fc1d-befd83824403"
   },
   "outputs": [
    {
     "name": "stdout",
     "output_type": "stream",
     "text": [
      "number of unique users for large sample data: 24977\n",
      "number of unique items for large sample data: 6576\n"
     ]
    }
   ],
   "source": [
    "# Sample data with movies with at least 50 ratings\n",
    "sample_large = sample_dataset(ratings, 25000, 30)\n",
    "user_id_list = sample_large['userId'].unique()\n",
    "movie_id_list = sample_large['movieId'].unique()\n",
    "movie_num = len(movie_id_list)\n",
    "user_num = len(user_id_list)\n",
    "print(\"number of unique users for large sample data:\", user_num)\n",
    "print(\"number of unique items for large sample data:\", movie_num)"
   ]
  },
  {
   "cell_type": "markdown",
   "metadata": {
    "id": "qrdfm6CrZkqt"
   },
   "source": [
    "We now get the movie list containing all the movie in our sample dataset. This list will then be used in the content-based algorithm."
   ]
  },
  {
   "cell_type": "code",
   "execution_count": 16,
   "metadata": {
    "id": "0vyOGcZWf-0w"
   },
   "outputs": [],
   "source": [
    "# Select the movies that are in the sample dataset\n",
    "movie_sample = movies[movies['movieId'].isin(movie_id_list)]\n",
    "movie_sample = movie_sample.reset_index()\n",
    "movie_sample['genres'] = movie_sample['genres'].str.split(\" \")"
   ]
  },
  {
   "cell_type": "markdown",
   "metadata": {
    "id": "87o5-zSDbSV_"
   },
   "source": [
    "Cross validation setup:"
   ]
  },
  {
   "cell_type": "code",
   "execution_count": 17,
   "metadata": {
    "id": "toWBLBOAf-0x"
   },
   "outputs": [],
   "source": [
    "# Split sample data into training data, validation data, and test daya\n",
    "train_ratio = 0.8\n",
    "train_df, test_df, validation_df = train_test_validation(sample_large, train_ratio, 0.1, 0.1)"
   ]
  },
  {
   "cell_type": "markdown",
   "metadata": {
    "id": "zrTyZjz6f-0x"
   },
   "source": [
    "###  Evaluation methods set up\n",
    "During the evaluation process, we will choose error metric, Root-mean-square error (RMSE), as our primary accuracy metric, and choose Normalized Discounted Cumulative Gain(NDCG) as our secondary accuraccy metirc. The following functions compute the value of our evaluation metric for different algorithms in our hybrid model."
   ]
  },
  {
   "cell_type": "code",
   "execution_count": 18,
   "metadata": {
    "id": "SA6OuFDSbwLV"
   },
   "outputs": [],
   "source": [
    "def get_rmse(df_prediction):\n",
    "    \"\"\"\n",
    "    This function computes the RMSE of the prediction\n",
    "    Args:\n",
    "    df_prediction: data frame of movieId, userId, rating, predicted rating\n",
    "    Returns:\n",
    "    RMSE value\n",
    "    \"\"\"\n",
    "    df=df_prediction.copy()\n",
    "    df.columns = ['uid', 'mid', 'rating', 'prediction']\n",
    "    df['error'] = (df['prediction'] - df['rating'])**2\n",
    "    df_rmse = (sum(df['error'])/len(df))**0.5\n",
    "    return df_rmse "
   ]
  },
  {
   "cell_type": "code",
   "execution_count": 19,
   "metadata": {
    "id": "pSMQAOn7f-0x"
   },
   "outputs": [],
   "source": [
    "def get_ndcg(data):\n",
    "    \"\"\"This function compute the NDCG of the model\n",
    "\n",
    "    Args:\n",
    "        data: the prediction data frame\n",
    "    Returns:\n",
    "        The NDCG score \n",
    "    \"\"\"\n",
    "    df = data.copy()\n",
    "    df.columns = ['uid', 'mid', 'rating', 'prediction']\n",
    "    df['relevance']=1\n",
    "    df.loc[df['rating']<4,'relevance']=0\n",
    "    gb = df.groupby('uid')   \n",
    "\n",
    "    NDCG = 0\n",
    "    for x in gb.groups:\n",
    "        G = gb.get_group(x)\n",
    "        rel = list(G['relevance'])\n",
    "        pred = list(G['prediction'])\n",
    "        if rel == [0]:\n",
    "            ndcg = 0\n",
    "        elif rel == [1]:\n",
    "            ndcg = 1\n",
    "        else:\n",
    "            \n",
    "            ndcg = ndcg_score(np.asarray([rel]),np.asarray([pred]))\n",
    "            \n",
    "        \n",
    "        NDCG =  NDCG + ndcg\n",
    "\n",
    "    \n",
    "    NDCG = NDCG/(len(gb.groups))\n",
    "    \n",
    "\n",
    "    return NDCG"
   ]
  },
  {
   "cell_type": "code",
   "execution_count": 20,
   "metadata": {
    "id": "nHhJMftRf-0x"
   },
   "outputs": [],
   "source": [
    "def fit_and_evaluate_mf(algo, train, test, ndcg = False, coverage = False):\n",
    "    \n",
    "    \"\"\"This function compute RMSE, NDCG, and Item Coverage of the model\n",
    "\n",
    "    Args:\n",
    "        algo: model to be used\n",
    "        train: training set\n",
    "        test: testing set\n",
    "        ndcg: a boolean to indicate the need to calculate ndcg\n",
    "        coverage: a boolean to indicate the need to calculate item coverage\n",
    "\n",
    "    Returns:\n",
    "        RMSE for the model\n",
    "        NDCG for the model(if indicated)\n",
    "        Item Coverage and Top 10 recommended movies for the model \n",
    "        (if indicated)\n",
    "    \"\"\"\n",
    "    model = algo.fit(train)\n",
    "    predictions = model.transform(test)\n",
    "    evaluator = RegressionEvaluator(metricName = \"rmse\", labelCol = \"rating\",\n",
    "                                    predictionCol = \"prediction\")\n",
    "    rmse = evaluator.evaluate(predictions)\n",
    "    \n",
    "    if ndcg:\n",
    "        prediction_ranking = predictions.toPandas()\n",
    "        ndcg_result = get_ndcg(prediction_ranking)\n",
    "        \n",
    "    if coverage:\n",
    "        # Recommend Top 10 movies for each user\n",
    "        userSubsetRecs = model.recommendForUserSubset(test, 10)\n",
    "        userRecs = userSubsetRecs.toPandas()\n",
    "        test_movie = test.toPandas()\n",
    "        test_movie_set = set(test_movie['movieId'])\n",
    "        length = len(userRecs)\n",
    "        rec = userRecs['recommendations']\n",
    "        movie_rec = []\n",
    "        movie_count = {}\n",
    "        for i in range(length):\n",
    "            user_length = len(rec[i])\n",
    "            for j in range(user_length):\n",
    "                ind_rec = rec[i][j]['movieId']\n",
    "                movie_rec.append(ind_rec)\n",
    "                try:\n",
    "                    movie_count[ind_rec] = movie_count[ind_rec] + 1\n",
    "                except:\n",
    "                    movie_count[ind_rec] = 1\n",
    "        # Change the list of recommended movie to a set of movies\n",
    "        movie_rec = set(movie_rec)\n",
    "        item_coverage = len(movie_rec)/len(test_movie_set)\n",
    "    \n",
    "    if ndcg and coverage:\n",
    "        return rmse, ndcg_result, item_coverage, predictions\n",
    "    elif ndcg and (not coverage):\n",
    "        return rmse, ndcg_result\n",
    "    elif (not ndcg) and coverage:\n",
    "        return rmse, item_coverage, predictions\n",
    "    else:\n",
    "        return rmse"
   ]
  },
  {
   "cell_type": "code",
   "execution_count": 21,
   "metadata": {
    "id": "pQFAsHu9kofO"
   },
   "outputs": [],
   "source": [
    "def get_top_n_mf(algo, training, test, n=10):\n",
    "    model = algo.fit(training)\n",
    "    userSubsetRecs = model.recommendForUserSubset(test, n)\n",
    "    userRecs = userSubsetRecs.toPandas()\n",
    "    length = len(userRecs)\n",
    "    rec = userRecs['recommendations']\n",
    "    movie_rec = []\n",
    "    for i in range(length):\n",
    "        user_length = len(rec[i])\n",
    "        movie_list = []\n",
    "        for j in range(user_length):\n",
    "            ind_rec = rec[i][j]['movieId']\n",
    "            movie_list.append(ind_rec)\n",
    "        movie_rec.append(movie_list)\n",
    "    userRecs['top_n'] = movie_rec\n",
    "    userRecs = userRecs.drop(columns=['recommendations'])\n",
    "    return(userRecs)"
   ]
  },
  {
   "cell_type": "code",
   "execution_count": 22,
   "metadata": {
    "id": "V-j7V1QMko73"
   },
   "outputs": [],
   "source": [
    "def fit_and_evaluate_fm(algo, traindata_onehot, testdata_onehot, X_train, X_test,\n",
    "                        y_train, y_test, ndcg = False, coverage = False):\n",
    "    \"\"\"This function compute RMSE, NDCG, and Item Coverage of the model\n",
    "    Args:\n",
    "        algo: model to be used\n",
    "        traindata_onehot: one hot encoded training set\n",
    "        testdata_onehot: one hot encoded testing set\n",
    "        X_train: training set\n",
    "        X_test: testing set(validation set)\n",
    "        y_train: target value of training set\n",
    "        y_test: target value of testing set\n",
    "        ndcg: a boolean to indicate the need to calculate ndcg\n",
    "        coverage: a boolean to indicate the need to calculate item coverage\n",
    "    Returns:\n",
    "        RMSE for the model\n",
    "        NDCG for the model(if indicated)\n",
    "        Item Coverage and Top 10 recommended movies for the model \n",
    "        (if indicated)\n",
    "    \"\"\"\n",
    "    fm.fit(traindata_onehot,y_train)\n",
    "    predictions = fm.predict(testdata_onehot)\n",
    "    rmse = np.sqrt(mean_squared_error(y_test,predictions))\n",
    "    \n",
    "    \n",
    "    x_temp = X_test[['movieId','userId']]\n",
    "    temp = pd.concat([pd.DataFrame(y_test),pd.DataFrame(predictions)], axis='columns')\n",
    "    temp.columns = ['rating', 'prediction']\n",
    "    temp = temp.reset_index()\n",
    "    x_temp = x_temp.reset_index()\n",
    "    result = pd.concat([x_temp,temp], axis='columns')[['movieId','userId','rating','prediction']]\n",
    "    \n",
    "    predictions_fm = result\n",
    "    \n",
    "    if ndcg:\n",
    "        ndcg_result = get_ndcg(result)\n",
    "        \n",
    "    if coverage:\n",
    "        top_n = get_top_n_fm(result, n=10)\n",
    "        item_coverage,top10_recommended = item_coverage_fm(top_n,X_test)\n",
    "    \n",
    "    \n",
    "    if ndcg and coverage:\n",
    "        return rmse, ndcg_result, item_coverage, top10_recommended, predictions_fm\n",
    "    elif ndcg and (not coverage):\n",
    "        return rmse, ndcg_result\n",
    "    elif (not ndcg) and coverage:\n",
    "        return rmse, item_coverage, top10_recommended, predictions_fm\n",
    "    else:\n",
    "        return rmse"
   ]
  },
  {
   "cell_type": "code",
   "execution_count": 65,
   "metadata": {
    "id": "93WAO-shf-0y"
   },
   "outputs": [],
   "source": [
    "def item_coverage_content(prediction, dataset, movie_id_list, n=10):\n",
    "    \"\"\"\n",
    "    This function compute the item coverage rate of content-based algorithm\n",
    "    Args:\n",
    "      prediction: predicted rating for each user-item pair\n",
    "      dataset: dataset for user and movies\n",
    "      movie_id_list: list of movie ID\n",
    "      n: number of movie in the recommendation for each user\n",
    "    Return:\n",
    "      Item coverage rate\n",
    "      A dataset containing top n movies for each user\n",
    "    \"\"\"\n",
    "    recommended = set()\n",
    "    user_list = dataset['userId'].unique()\n",
    "    prediction_column = []\n",
    "    top_n = pd.DataFrame(user_list)\n",
    "    for uid in user_list:\n",
    "        pred = prediction[uid]\n",
    "        pred = pred.sort_values(ascending = False)\n",
    "        mid_list = pred[0:n].index\n",
    "        prediction_column.append(mid_list.tolist())\n",
    "        for mid in mid_list:\n",
    "            recommended.add(mid)\n",
    "    item_coverage = len(recommended)/len(movie_id_list)\n",
    "    top_n['top_n'] = prediction_column\n",
    "    return item_coverage, top_n"
   ]
  },
  {
   "cell_type": "code",
   "execution_count": 24,
   "metadata": {
    "id": "F5_NaEjgf-0y"
   },
   "outputs": [],
   "source": [
    "def get_top_n_fm(predicted_result, n=10):\n",
    "    \n",
    "    \"\"\"Return the top-N recommendation for each user from a set of predictions.\n",
    "    \n",
    "    Args:\n",
    "        predicted_result: data frame of movieId, userId, rating, ?predicted rating\n",
    "        n(int): The number of recommendation to output for each user. Default\n",
    "            is 10.\n",
    "   \n",
    "   Returns:\n",
    "    A dict where keys are user (raw) ids and values are lists of tuples:\n",
    "        [(movie id, rating estimation), ...] of size n.\n",
    "    \"\"\"\n",
    "   \n",
    "    # First map the predictions to each user.\n",
    "    top_n = defaultdict(list)\n",
    "    for index, row in predicted_result.iterrows():\n",
    "        top_n[row['userId']].append((row['movieId'],row['prediction']))\n",
    "    \n",
    "    # Then sort the predictions for each user and retrieve the k highest ones.\n",
    "    for uid, user_ratings in top_n.items():\n",
    "        user_ratings.sort(key=lambda x: x[1], reverse=True)\n",
    "        top_n[uid] = user_ratings[:n]\n",
    " \n",
    "    return top_n"
   ]
  },
  {
   "cell_type": "code",
   "execution_count": 25,
   "metadata": {
    "id": "BGps13uciii4"
   },
   "outputs": [],
   "source": [
    "def item_coverage_fm(topn,test):\n",
    "    \n",
    "    \"\"\"This function compute the item coverage and find 10 movies that have been recommended most\n",
    "   \n",
    "   Args:\n",
    "        topn: The top n recommendation for each user \n",
    "        test: test dataset\n",
    "   \n",
    "   Returns:\n",
    "        user cover and 10 movies that have been recommended most\n",
    "    \"\"\"\n",
    "   \n",
    "    movie_num = len(test.groupby('movieId').count())\n",
    "    all_recommend = {}\n",
    "    for uid, user_ratings in topn.items():\n",
    "        (user,recommend) = (uid, [iid for (iid, _) in user_ratings])\n",
    "        for x in recommend:\n",
    "            try:\n",
    "                all_recommend[x] = all_recommend[x] + 1\n",
    "            except:\n",
    "                all_recommend[x] = 1\n",
    "\n",
    "    total_recommended = len(all_recommend.keys())\n",
    "    coverage = total_recommended/movie_num\n",
    "    sorted_rate = sorted(all_recommend.items(), key=lambda kv: kv[1])\n",
    "    top10_recommended = list((dict(sorted_rate).keys()))[:10]\n",
    "    return coverage,top10_recommended"
   ]
  },
  {
   "cell_type": "code",
   "execution_count": 28,
   "metadata": {
    "id": "Y5zAh65QLm97"
   },
   "outputs": [],
   "source": [
    "def predict_and_rcmd_result_fm(result):\n",
    "    \"\"\"This function computes top-n movie recommendation list for each user\n",
    "   \n",
    "   Args:\n",
    "        result: a datafame listing userId, movieId, ratings, and rating prediction\n",
    "        \n",
    "   Returns:\n",
    "        a dataframe with a column of top-n (default n = 10) recommended movie list for each user\n",
    "    \"\"\"\n",
    "    top_n_dict = get_top_n_fm(result, n=10)\n",
    "    df_topn = pd.DataFrame(top_n_dict).T\n",
    "    df_topn = df_topn.apply(lambda x: x.str[0].astype(int))\n",
    "    df_topn['topn_list'] = df_topn.values.tolist()\n",
    "    df_topn = df_topn[['topn_list']]\n",
    "    df_topn = df_topn.reset_index()\n",
    "    df_topn = df_topn.rename(columns = {\"index\": \"userId\"})\n",
    "    df_topn['userId'] = df_topn['userId'].astype(int)\n",
    "    \n",
    "    return df_topn"
   ]
  },
  {
   "cell_type": "markdown",
   "metadata": {
    "id": "_UKcSlXjf-0y"
   },
   "source": [
    "## Baseline\n",
    "\n",
    "### Baseline Algorithm by Popularity\n",
    "\n",
    "We choose to build one of our baseline model depending the popularity of movies. We consider movies with more than 500 ratings as popular movies and recommend movies with high popularity to all users. To compute the value of evaluation metrics including RMSE and NDCG, we rank the popularity of movie and assign each popular movie a predicted rating following uniform distribution with a range from 2.5 to 5. We choose the score of 2.5 instead of 0 to be the starting score of popular movies because we believe most movies are known and popular mostly for its positive factors. We then compare this predicted ratings with real ratings to evaluate this baseline model on popularity."
   ]
  },
  {
   "cell_type": "code",
   "execution_count": 110,
   "metadata": {
    "id": "d4A7Xqahf-0y"
   },
   "outputs": [],
   "source": [
    "def popular_baseline(sample,rating_num=500):\n",
    "    \"\"\"This function output the prediction data frame using popular baseline\n",
    "\n",
    "    Args:\n",
    "      sample: sample dataset to be considerer\n",
    "      rating_num: rating number threshold for movies to be considered popular, default value is 500\n",
    "\n",
    "    Returns:\n",
    "        dataframe including user ID, movie ID, real ratings, and predicted ratings.\n",
    "    \"\"\"\n",
    "    data=sample.groupby(\"movieId\").count()\n",
    "    data.reset_index(inplace = True)\n",
    "    sort_movie = data.sort_values(by=\"userId\", ascending = False )\n",
    "    movie_list = sort_movie.loc[sort_movie[\"userId\"] > rating_num,\"movieId\"]\n",
    "    movie_list = movie_list.to_numpy()\n",
    "    np.random.seed(100)\n",
    "    prediction =np.random.uniform(low=2.5, high=5, size=len(movie_list))\n",
    "    prediction= sorted(prediction,reverse = True)\n",
    "    movie_rate = dict()\n",
    "    for i in range(len(prediction)):\n",
    "        movie_rate[movie_list[i]] = prediction[i]\n",
    "\n",
    "    have_rating = sample.loc[sample_large['movieId'].isin(movie_list),]\n",
    "    have_rating[\"prediction\"] = 0\n",
    "\n",
    "    for x in movie_rate.keys():\n",
    "        have_rating.loc[have_rating[\"movieId\"]==x,\"prediction\"] = movie_rate[x]\n",
    "    return have_rating"
   ]
  },
  {
   "cell_type": "code",
   "execution_count": 111,
   "metadata": {
    "id": "C1cGAnLBf-0z"
   },
   "outputs": [
    {
     "name": "stderr",
     "output_type": "stream",
     "text": [
      "<ipython-input-110-a529496406ce>:24: SettingWithCopyWarning: \n",
      "A value is trying to be set on a copy of a slice from a DataFrame.\n",
      "Try using .loc[row_indexer,col_indexer] = value instead\n",
      "\n",
      "See the caveats in the documentation: https://pandas.pydata.org/pandas-docs/stable/user_guide/indexing.html#returning-a-view-versus-a-copy\n",
      "  have_rating[\"prediction\"] = 0\n",
      "/Users/liuyu/opt/anaconda3/lib/python3.8/site-packages/pandas/core/indexing.py:966: SettingWithCopyWarning: \n",
      "A value is trying to be set on a copy of a slice from a DataFrame.\n",
      "Try using .loc[row_indexer,col_indexer] = value instead\n",
      "\n",
      "See the caveats in the documentation: https://pandas.pydata.org/pandas-docs/stable/user_guide/indexing.html#returning-a-view-versus-a-copy\n",
      "  self.obj[item] = s\n"
     ]
    },
    {
     "name": "stdout",
     "output_type": "stream",
     "text": [
      "The RMSE score for baseline method on popularity is:  1.2475563897489899\n",
      "The NDCG score for baseline method on popularity is:  0.7734013760551087\n"
     ]
    }
   ],
   "source": [
    "popular = popular_baseline(test_df)\n",
    "popular_ndcg = get_ndcg(popular)\n",
    "popular_rmse = get_rmse(popular)\n",
    "\n",
    "print(\"The RMSE score for baseline method on popularity is: \", popular_rmse)\n",
    "print(\"The NDCG score for baseline method on popularity is: \", popular_ndcg)"
   ]
  },
  {
   "cell_type": "markdown",
   "metadata": {
    "id": "dRj2UYAHf-0z"
   },
   "source": [
    "### Baseline Algorithm by Matrix Factorization"
   ]
  },
  {
   "cell_type": "markdown",
   "metadata": {
    "id": "mlnhMyrydlaX"
   },
   "source": [
    "We also use Matrix Factorization as a baseline alforithm. Just like what we did in assignment 2, we begin our process of hyper parameter tuning by changing value of a single hyper parameter while keeping others constant. Then, a plot is drawn to visualize the relationship between the hyper parameter value and the corresponding accuracy using the primary accuracy metric, Root-Mean-Square Error (RMSE). "
   ]
  },
  {
   "cell_type": "code",
   "execution_count": 29,
   "metadata": {
    "id": "cIUOfFhLf-0z"
   },
   "outputs": [],
   "source": [
    "# Transform train, test, and validation set into Spark formats\n",
    "training_baseline = spark.createDataFrame(train_df)\n",
    "test_baseline = spark.createDataFrame(test_df)\n",
    "validation_baseline = spark.createDataFrame(validation_df)"
   ]
  },
  {
   "cell_type": "markdown",
   "metadata": {
    "id": "Y_zjwfTHf-0z"
   },
   "source": [
    "#### Hyper Parameter Tuning on Baseline: Matrix Factorization"
   ]
  },
  {
   "cell_type": "markdown",
   "metadata": {},
   "source": [
    "Firstly, we are going to find the optimal value of regularization parameter."
   ]
  },
  {
   "cell_type": "code",
   "execution_count": 112,
   "metadata": {
    "id": "qhMRoNhCf-0z",
    "outputId": "ef22604a-9815-4bb4-95c5-f6d330f5657c"
   },
   "outputs": [
    {
     "name": "stdout",
     "output_type": "stream",
     "text": [
      "Reg = 0.01 Root-mean-square error =  0.8597950227775203\n",
      "Reg = 0.02 Root-mean-square error =  0.8399057679372677\n",
      "Reg = 0.03 Root-mean-square error =  0.829115716991885\n",
      "Reg = 0.04 Root-mean-square error =  0.8227616565173592\n",
      "Reg = 0.05 Root-mean-square error =  0.8191803535129347\n",
      "Reg = 0.06 Root-mean-square error =  0.8175012859932174\n",
      "Reg = 0.07 Root-mean-square error =  0.8173216835250972\n",
      "Reg = 0.08 Root-mean-square error =  0.8183580015937971\n",
      "Reg = 0.09 Root-mean-square error =  0.8203764339453505\n",
      "Reg = 0.1 Root-mean-square error =  0.8231906240109541\n",
      "Reg = 0.2 Root-mean-square error =  0.8684881325758019\n",
      "Reg = 0.5 Root-mean-square error =  1.0020001052249516\n",
      "Reg = 1.0 Root-mean-square error =  1.3253469363801385\n"
     ]
    }
   ],
   "source": [
    "rank = 10\n",
    "regparam = [0.01, 0.02, 0.03, 0.04, 0.05, 0.06, 0.07, 0.08, 0.09, 0.1, 0.2, 0.5, 1.0]\n",
    "rmse_reg = []\n",
    "for reg in regparam:\n",
    "    als = ALS(userCol=\"userId\", itemCol=\"movieId\", ratingCol=\"rating\", \n",
    "          regParam=reg, coldStartStrategy=\"drop\", rank=rank)\n",
    "    rmse = fit_and_evaluate_mf(als, training_baseline, validation_baseline)\n",
    "    rmse_reg.append(rmse)\n",
    "    print(\"Reg =\", reg, \"Root-mean-square error = \", str(rmse))"
   ]
  },
  {
   "cell_type": "code",
   "execution_count": 113,
   "metadata": {
    "id": "ZM63hkOJf-0z",
    "outputId": "d5ed0a88-58a9-431b-ed7e-5d15e8ffdfa5"
   },
   "outputs": [
    {
     "data": {
      "image/png": "[encoded data removed]",
      "text/plain": [
       "<Figure size 432x288 with 1 Axes>"
      ]
     },
     "metadata": {
      "needs_background": "light"
     },
     "output_type": "display_data"
    }
   ],
   "source": [
    "x = regparam\n",
    "y = rmse_reg\n",
    "plt.plot(x, y)\n",
    "plt.xlabel(\"Regularization Parameters\")\n",
    "plt.ylabel(\"RMSE\")\n",
    "plt.title(\"Accuracy with Different Regularization Parameters\")\n",
    "plt.show()"
   ]
  },
  {
   "cell_type": "markdown",
   "metadata": {},
   "source": [
    "Next, we plot the graph between RMSE and regularization parameters to draw the relationship between them. "
   ]
  },
  {
   "cell_type": "code",
   "execution_count": 119,
   "metadata": {
    "id": "RcOUI_pef-00",
    "outputId": "808b6dc7-1b9d-4f29-fac2-626b1f8dd697"
   },
   "outputs": [
    {
     "name": "stdout",
     "output_type": "stream",
     "text": [
      "Rank = 10 Root-mean-square error =  0.8175012859932174\n",
      "Rank = 20 Root-mean-square error =  0.8143559744235864\n",
      "Rank = 30 Root-mean-square error =  0.8124286863377664\n",
      "Rank = 40 Root-mean-square error =  0.8117555603341003\n",
      "Rank = 50 Root-mean-square error =  0.8113624465964935\n",
      "Rank = 60 Root-mean-square error =  0.8118619624523569\n"
     ]
    }
   ],
   "source": [
    "regparam = 0.06\n",
    "rmse_rank = []\n",
    "rank = range(10, 70, 10)\n",
    "\n",
    "for r in rank:\n",
    "    als = ALS(userCol=\"userId\", itemCol=\"movieId\", ratingCol=\"rating\", \n",
    "          regParam=regparam, coldStartStrategy=\"drop\", rank=r)\n",
    "    rmse = fit_and_evaluate_mf(als, training_baseline, validation_baseline)\n",
    "    rmse_rank.append(rmse)\n",
    "    print(\"Rank =\", r, \"Root-mean-square error = \", str(rmse))"
   ]
  },
  {
   "cell_type": "code",
   "execution_count": 120,
   "metadata": {
    "id": "om5K6fBvf-02"
   },
   "outputs": [
    {
     "data": {
      "image/png": "[encoded data removed]",
      "text/plain": [
       "<Figure size 432x288 with 1 Axes>"
      ]
     },
     "metadata": {
      "needs_background": "light"
     },
     "output_type": "display_data"
    }
   ],
   "source": [
    "x = rank\n",
    "y = rmse_rank\n",
    "plt.plot(x, y)\n",
    "plt.xlabel(\"rank (number of latent factors)\")\n",
    "plt.ylabel(\"RMSE\")\n",
    "plt.title(\"Accuracy with Different Ranks\")\n",
    "plt.show()"
   ]
  },
  {
   "cell_type": "markdown",
   "metadata": {},
   "source": [
    "As shown above, keeping regularization parameter 0.06, the RMSE of the model gradually decreases and increase at the end as rank increases from 10 to 60, with slight fluctuations along the line. However, increasing the number of ranks increase the runtime as well. In order to balance between the accuracy and the runtime, we decide to use the rank of 40. "
   ]
  },
  {
   "cell_type": "code",
   "execution_count": 122,
   "metadata": {
    "id": "ba86H-N_f-02",
    "outputId": "5e8077be-a36b-41d0-c733-345afc81f5fd"
   },
   "outputs": [
    {
     "name": "stdout",
     "output_type": "stream",
     "text": [
      "Root-mean-square error (RMSE) =  0.8132312741328172\n",
      "NDCG =  0.794656507214481\n",
      "Item Coverage =  0.7025664527956004\n"
     ]
    }
   ],
   "source": [
    "# Model-based: Matrix Factorization\n",
    "als = ALS(rank=40, regParam=0.06, userCol=\"userId\", itemCol=\"movieId\", ratingCol=\"rating\",\n",
    "          coldStartStrategy=\"drop\")\n",
    "rmse_base_mf, ndcg_base_mf, item_coverage_base_mf, predictions_base_mf = fit_and_evaluate_mf(als, \n",
    "                                                                        training_baseline, test_baseline, ndcg = True, coverage = True)\n",
    "print(\"Root-mean-square error (RMSE) = \", str(rmse_base_mf))\n",
    "print(\"NDCG = \", str(ndcg_base_mf))\n",
    "print(\"Item Coverage = \", item_coverage_base_mf)"
   ]
  },
  {
   "cell_type": "markdown",
   "metadata": {
    "id": "AQqdyliff-02"
   },
   "source": [
    "From the above analysis, evaluations on the MF Baseline Model is: \n",
    "\n",
    "RMSE = 0.813\n",
    "\n",
    "NDCG = 0.795\n",
    "\n",
    "Item Coverage = 0.703"
   ]
  },
  {
   "cell_type": "markdown",
   "metadata": {
    "id": "UjkVTiNQVgww"
   },
   "source": [
    "### User Rating Counts Distribution"
   ]
  },
  {
   "cell_type": "code",
   "execution_count": 123,
   "metadata": {
    "id": "Qjw57FNVf-03",
    "outputId": "21b1e673-2225-4f6c-8c7b-067531670818"
   },
   "outputs": [
    {
     "data": {
      "image/png": "[encoded data removed]",
      "text/plain": [
       "<Figure size 432x288 with 1 Axes>"
      ]
     },
     "metadata": {
      "needs_background": "light"
     },
     "output_type": "display_data"
    }
   ],
   "source": [
    "# Visualize the distribution of the user rating counts in the sample\n",
    "user_rating_count = sample_large['userId'].value_counts().tolist()\n",
    "sns.distplot(user_rating_count, bins=400, axlabel = \"Each User Rating Counts\",label='frequency', kde = False).set_title(\"Each User's Rating Counts Distribution\")\n",
    "plt.xlim(0, 1000)\n",
    "plt.show()"
   ]
  },
  {
   "cell_type": "markdown",
   "metadata": {
    "id": "u9EEg4RVf-03"
   },
   "source": [
    "## Hybrid Model Construction\n",
    "As we mentioned before, we will build a switching hybrid model that applys different algorithms to different group of users based on  their historical ratings in the record. For users with only a few ratings or cold-start users, we apply content-based algorithm to build their prediction and recommendation, Users with a moderate amount of ratings are funneled into a matrix facterization model. Finally, we utilize facterization machine to power users who have rated a lot of movies in our dataset. \n",
    "\n"
   ]
  },
  {
   "cell_type": "markdown",
   "metadata": {
    "id": "JJPe9g-mfJDR"
   },
   "source": [
    "We will first write a function to divide users into three groups based on their number of ratings in our dataset. The threshold for number of ratings for each group will be a hyper-parameter tuned in the contenct-based algorithm."
   ]
  },
  {
   "cell_type": "code",
   "execution_count": 31,
   "metadata": {
    "id": "Z-26tt2vf-03"
   },
   "outputs": [],
   "source": [
    "# Split user into groups: users with low rating count, users with medium rating count, users with large rating count \n",
    "def split_user(dataset, few_num, large_num):\n",
    "    \"\"\" \n",
    "    This function split the users into three groups based on their number of ratings in the sample data.\n",
    "    Args:\n",
    "      dataset: sample dataset.\n",
    "      few_num: users with number of ratings less this number will be applied content based algorithm.\n",
    "      large_num: users with number of ratings more than this number will be applied facterization machine.\n",
    "    Return:\n",
    "      dataset and user list for each algorithms in the hybrid model.\n",
    "    \"\"\"\n",
    "    rate_count = dataset['userId'].value_counts()\n",
    "    user_content = []\n",
    "    user_mf = []\n",
    "    user_fm = []\n",
    "    full_user_list = list(dataset.userId.unique())\n",
    "    for i in full_user_list:\n",
    "        count = rate_count[i]\n",
    "        if count <= few_num:\n",
    "            user_content.append(i)\n",
    "        elif count <= large_num:\n",
    "            user_mf.append(i)\n",
    "        else:\n",
    "            user_fm.append(i)\n",
    "    df_content = dataset[dataset['userId'].isin(user_content)]\n",
    "    df_mf = dataset[dataset['userId'].isin(user_mf)]\n",
    "    df_fm = dataset[dataset['userId'].isin(user_fm)]\n",
    "    return user_content, df_content, user_mf, df_mf, user_fm, df_fm"
   ]
  },
  {
   "cell_type": "markdown",
   "metadata": {
    "id": "2APjWFrXgqr3"
   },
   "source": [
    "### Content-based Algorithm Implementation and Hyper-parameter Tuning\n",
    "\n",
    "we will first write a function to compute the similarity between each movie in the sample data and output a movie similarity matrix, which will then be used in the content-based algorithm."
   ]
  },
  {
   "cell_type": "code",
   "execution_count": 32,
   "metadata": {
    "id": "-ffx3QgBf-03"
   },
   "outputs": [],
   "source": [
    "def movie_similarity_matrix(dataset):\n",
    "    \"\"\"\n",
    "    This function imput a dataset an compute a movie similarity matrix for all movies in the dataset\n",
    "    Args:\n",
    "      dataset: sample dataset used\n",
    "    Return: \n",
    "      movie similarity matrix for all movies in the dataset\n",
    "    \"\"\"\n",
    "    genre_list = set()\n",
    "    length = len(dataset)\n",
    "    movie_id = list(dataset['movieId'])\n",
    "    for i in range(length):\n",
    "        sample_list = dataset['genres'][i]\n",
    "        genre_list.update(sample_list)\n",
    "    genre_list = list(genre_list)\n",
    "    genre_list.pop(0)\n",
    "    X = pd.DataFrame(0, index = movie_id, columns = genre_list)\n",
    "    for movie in movie_id:\n",
    "        genre_ind_list = dataset.loc[dataset['movieId'] == movie].genres.tolist()[0]\n",
    "        for j in genre_ind_list:\n",
    "            if j != '':\n",
    "                X.loc[movie, j] = 1\n",
    "    # compute cosine similarity matrix\n",
    "    cosine_sim = linear_kernel(X, X) \n",
    "    return genre_list , X, cosine_sim "
   ]
  },
  {
   "cell_type": "markdown",
   "metadata": {
    "id": "ndwwrC0zhYUT"
   },
   "source": [
    "Now we cam implement the content-based algorithm.\n",
    "\n",
    "\n"
   ]
  },
  {
   "cell_type": "code",
   "execution_count": 33,
   "metadata": {
    "id": "as19VpAJf-03"
   },
   "outputs": [],
   "source": [
    "def content_base_model(movie_sample, df_content, movie_id_list, user_content, dataset):\n",
    "    \"\"\"This function produces the dataset with predicted ratings on movies that the user has rated and the one on all movies in the dataset\n",
    "\n",
    "    Args:\n",
    "        movie_sample: all movies in the sample set with genres\n",
    "        df_content: rating matrix for users with less than certain rating counts\n",
    "        movie_id_list: all movie ids in the sample set\n",
    "        user_content: list of users with less than certain rating counts\n",
    "        dataset: validation/test dataset\n",
    "\n",
    "    Returns:\n",
    "        dataset with user id, movie id, actual rating, and predicted rating\n",
    "        dataset containing predicted ratings of users on all movies in the sample\n",
    "    \"\"\"    \n",
    "    genre_list, X, cos = movie_similarity_matrix(movie_sample)\n",
    "    \n",
    "    # Build Item Profile\n",
    "    item_profile = X\n",
    "    original_movie_id = movie_sample['movieId']\n",
    "    item_profile.columns = genre_list\n",
    "    item_profile = item_profile.set_index(original_movie_id)\n",
    "    item_profile = item_profile.sort_index(ascending = True)\n",
    "    \n",
    "    # Build User Profile\n",
    "    content_df_length = len(df_content)\n",
    "    user_profile = pd.DataFrame(0, index = movie_id_list, columns = user_content)\n",
    "    for i in range(content_df_length):\n",
    "        user_id = int(df_content.iloc[i]['userId'])\n",
    "        movie_id = int(df_content.iloc[i]['movieId'])\n",
    "        r = df_content.iloc[i]['rating']\n",
    "        user_profile.loc[movie_id, user_id] = r\n",
    "    user_profile = user_profile.sort_index(ascending = True)\n",
    "    \n",
    "    # Build User-Movie Prediction\n",
    "    user_profile_predict = pd.DataFrame(0, index = movie_id_list, columns = user_content)\n",
    "    for i in user_content:\n",
    "        working_df = item_profile.mul(user_profile[i], axis=0) \n",
    "        working_df.replace(0, np.NaN, inplace = True)\n",
    "        test = working_df.mean(axis=0, numeric_only=True)\n",
    "        new_working_df = item_profile.mul(test, axis=1)\n",
    "        new_working_df.replace(0, np.NaN, inplace=True)\n",
    "        test2 = new_working_df.mean(axis=1, numeric_only=True)\n",
    "        test2.replace(np.NaN, 0, inplace=True)\n",
    "        user_profile_predict[i] = test2\n",
    "        \n",
    "    # Produce the result as a dataset with prediction\n",
    "    length = len(dataset)\n",
    "    content_final_df = dataset.copy()\n",
    "    predict_list = []\n",
    "    for i in range(length):\n",
    "        actual_r = dataset.iloc[i]['rating']\n",
    "        movie_id = int(dataset.iloc[i]['movieId'])\n",
    "        user_id = int(dataset.iloc[i]['userId'])\n",
    "        if user_id in user_content:\n",
    "            predicted_r = user_profile_predict.loc[movie_id, user_id]\n",
    "            predict_list.append(predicted_r)\n",
    "    content_final_df['prediction'] = predict_list\n",
    "    return content_final_df, user_profile_predict"
   ]
  },
  {
   "cell_type": "markdown",
   "metadata": {
    "id": "lWes3_bLiItr"
   },
   "source": [
    "#### Hyper-parameter Tuning for Content-based Algorithm on Number of Ratings, which is used to divide users into groups that are applied different algorithms."
   ]
  },
  {
   "cell_type": "code",
   "execution_count": 127,
   "metadata": {
    "id": "QddgVs8rf-04"
   },
   "outputs": [],
   "source": [
    "few_number_list_tuning = [7, 10, 13]\n",
    "fewer_rating_ratio_list_tuning = []\n",
    "rmse_content_list_tuning = []\n",
    "for i in few_number_list_tuning:\n",
    "    few_num_tuning = i\n",
    "    large_num_tuning = 190\n",
    "    fewer_rating_ratio_tuning = len([i for i in user_rating_count if i<=few_num_tuning])/user_num\n",
    "    fewer_rating_ratio_list_tuning.append(fewer_rating_ratio_tuning)\n",
    "    \n",
    "    # Split the sample data into the one for content-based and the one for matrix factorization\n",
    "    few_num_tuning = int(few_num_tuning * train_ratio)\n",
    "    large_num_tuning = int(large_num_tuning * train_ratio)\n",
    "    user_content_tuning, df_content_tuning, user_mf_tuning, df_mf_tuning, user_fm_tuning, df_fm_tuning = split_user(train_df, \n",
    "                                                                                                                    few_num_tuning, \n",
    "                                                                                                                    large_num_tuning)\n",
    "    df_content_validation_tuning = validation_df[validation_df['userId'].isin(user_content_tuning)]\n",
    "    df_content_validation_length_tuning = len(df_content_validation_tuning)\n",
    "    content_f_df, user_profile = content_base_model(movie_sample, df_content_tuning, movie_id_list, \n",
    "                                            user_content_tuning, df_content_validation_tuning)\n",
    "    rmse_tuning = get_rmse(content_f_df)\n",
    "    rmse_content_list_tuning.append(rmse_tuning)"
   ]
  },
  {
   "cell_type": "code",
   "execution_count": 128,
   "metadata": {
    "id": "EzJ8YUeff-07",
    "outputId": "1a98cb63-0ecf-4299-a6bf-cfd6d4fe1887"
   },
   "outputs": [
    {
     "data": {
      "image/png": "[encoded data removed]",
      "text/plain": [
       "<Figure size 432x288 with 1 Axes>"
      ]
     },
     "metadata": {
      "needs_background": "light"
     },
     "output_type": "display_data"
    }
   ],
   "source": [
    "x = few_number_list_tuning\n",
    "y = rmse_content_list_tuning\n",
    "plt.plot(x, y)\n",
    "plt.xlabel(\"User Rating Counts Upper Bound\")\n",
    "plt.ylabel(\"RMSE\")\n",
    "plt.title(\"Accuracy with Different User Rating Counts Upper Bound for Content-Based method\")\n",
    "plt.show()"
   ]
  },
  {
   "cell_type": "code",
   "execution_count": 129,
   "metadata": {
    "id": "5DRjHbmOf-07",
    "outputId": "124d1051-14c3-43e2-a800-b7cf103e8a22"
   },
   "outputs": [
    {
     "data": {
      "image/png": "[encoded data removed]",
      "text/plain": [
       "<Figure size 432x288 with 1 Axes>"
      ]
     },
     "metadata": {
      "needs_background": "light"
     },
     "output_type": "display_data"
    }
   ],
   "source": [
    "x = few_number_list_tuning\n",
    "y = fewer_rating_ratio_list_tuning\n",
    "plt.plot(x, y)\n",
    "plt.xlabel(\"User Rating Counts Upper Bound\")\n",
    "plt.ylabel(\"Proportions of User Selected\")\n",
    "plt.title(\"Proportions of User Selected for Content-Based Method\")\n",
    "plt.show()"
   ]
  },
  {
   "cell_type": "markdown",
   "metadata": {
    "id": "RUd42fV2f-07"
   },
   "source": [
    "Even though the increase in user rating counts upper bound could decrease RMSE thus increasing the accuracy of the model on validation data set, it also create a significant increase in the proportions of users evaluated by the content-based method and the running time. To balance between the accuracy and running time as well as the proportions of users evaluated by the content-based model, we decide to use the rating count upper bound of 10 for our content-based method. "
   ]
  },
  {
   "cell_type": "markdown",
   "metadata": {
    "id": "pYrEaHALf-07"
   },
   "source": [
    "#### User Spliting Threshold\n",
    "After tuning the number of ratings, we can now divide users with rating numbers less than 10 into the \"cold-start\" group that will be applied content-based algorithm. We will also divide poeple with number of ratings greater than 190 into \"power-user\" group that will be applied facterization machine. We split user group now before since we need to use the splitting groups to tune hyper-parameters for matrix facterization and facterization machine algorithms. "
   ]
  },
  {
   "cell_type": "code",
   "execution_count": 34,
   "metadata": {
    "id": "u32FDzsmf-07",
    "outputId": "bb14790a-ae0c-4e56-b751-987dd648c06d"
   },
   "outputs": [
    {
     "name": "stdout",
     "output_type": "stream",
     "text": [
      "Number of user with rating count at most 10  0.16715378147896065\n",
      "Number of user with rating count more than 10  and at most 190 0.7045281659126397\n",
      "Number of user with rating count more than 190 0.12831805260839974\n"
     ]
    }
   ],
   "source": [
    "few_num = 10\n",
    "large_num = 190\n",
    "fewer_rating_ratio = len([i for i in user_rating_count if i<=few_num])/user_num\n",
    "medium_rating_ratio = len([i for i in user_rating_count if (i<=large_num and i> few_num)])/user_num\n",
    "large_rating_ratio = len([i for i in user_rating_count if  i> large_num])/user_num\n",
    "print(\"Number of user with rating count at most %s \" % few_num, fewer_rating_ratio)\n",
    "print(\"Number of user with rating count more than %s\" % few_num, \" and at most %s\" % large_num, medium_rating_ratio)\n",
    "print(\"Number of user with rating count more than %s\" % large_num, large_rating_ratio)"
   ]
  },
  {
   "cell_type": "code",
   "execution_count": 35,
   "metadata": {
    "id": "TzojYhWIf-08"
   },
   "outputs": [],
   "source": [
    "# Split the sample data into the one for content-based and the one for matrix factorization\n",
    "few_num = int(few_num * train_ratio)\n",
    "large_num = int(large_num * train_ratio)\n",
    "user_content, df_content, user_mf, df_mf, user_fm, df_fm = split_user(train_df, few_num, large_num)\n",
    "\n",
    "# Get the validation dataset for Content-Based\n",
    "df_content_validation = validation_df[validation_df['userId'].isin(user_content)]\n",
    "df_content_validation_length = len(df_content_validation)\n",
    "\n",
    "# Also get the validation and test dataset for Matrix Factorization\n",
    "df_mf_validation = validation_df[validation_df['userId'].isin(user_mf)]\n",
    "df_mf_validation_length = len(df_mf_validation)\n",
    "\n",
    "# Get the validation and test dataset for Factorization Machine\n",
    "df_fm_validation = validation_df[validation_df['userId'].isin(user_fm)]\n",
    "df_fm_validation_length = len(df_fm_validation)"
   ]
  },
  {
   "cell_type": "markdown",
   "metadata": {
    "id": "eGpMSLsyf-08"
   },
   "source": [
    "### Matrix Facterization Algorithm for users with moderate amount of ratings.\n",
    "\n"
   ]
  },
  {
   "cell_type": "markdown",
   "metadata": {},
   "source": [
    "#### Systematic Testing on Hyper Parameters of Model-Based Method"
   ]
  },
  {
   "cell_type": "code",
   "execution_count": 125,
   "metadata": {
    "id": "cE03bsbSf-08"
   },
   "outputs": [],
   "source": [
    "# Prepare the dataset for Spark\n",
    "train_mf = spark.createDataFrame(df_mf)\n",
    "validation_mf = spark.createDataFrame(df_mf_validation)"
   ]
  },
  {
   "cell_type": "code",
   "execution_count": 126,
   "metadata": {
    "id": "mr2Dkdglf-08",
    "outputId": "2249307e-cef5-47da-ae45-6ad75e315a23"
   },
   "outputs": [
    {
     "name": "stdout",
     "output_type": "stream",
     "text": [
      "Reg = 0.01 Root-mean-square error =  1.0185172051815492\n",
      "Reg = 0.02 Root-mean-square error =  0.9718857172505573\n",
      "Reg = 0.03 Root-mean-square error =  0.9437528029248843\n",
      "Reg = 0.04 Root-mean-square error =  0.9239504467606402\n",
      "Reg = 0.05 Root-mean-square error =  0.9095749147967452\n",
      "Reg = 0.06 Root-mean-square error =  0.8989538631866985\n",
      "Reg = 0.07 Root-mean-square error =  0.891124709943493\n",
      "Reg = 0.08 Root-mean-square error =  0.8852953145006512\n",
      "Reg = 0.09 Root-mean-square error =  0.8810170431927196\n",
      "Reg = 0.1 Root-mean-square error =  0.878083837868042\n",
      "Reg = 0.2 Root-mean-square error =  0.8947735968991883\n",
      "Reg = 0.5 Root-mean-square error =  1.0313718978210404\n",
      "Reg = 1.0 Root-mean-square error =  1.344261491046586\n"
     ]
    }
   ],
   "source": [
    "rank = 10\n",
    "regparam = [0.01, 0.02, 0.03, 0.04, 0.05, 0.06, 0.07, 0.08, 0.09, 0.1, 0.2, 0.5, 1.0]\n",
    "rmse_reg = []\n",
    "for reg in regparam:\n",
    "    als = ALS(userCol=\"userId\", itemCol=\"movieId\", ratingCol=\"rating\", \n",
    "          regParam=reg, coldStartStrategy=\"drop\", rank=rank)\n",
    "    rmse = fit_and_evaluate_mf(als, train_mf, validation_mf)\n",
    "    rmse_reg.append(rmse)\n",
    "    print(\"Reg =\", reg, \"Root-mean-square error = \", str(rmse))"
   ]
  },
  {
   "cell_type": "markdown",
   "metadata": {
    "id": "7MWXndyaf-08"
   },
   "source": [
    "Next, we plot the graph between RMSE and regularization parameters to draw the relationship between them."
   ]
  },
  {
   "cell_type": "code",
   "execution_count": 72,
   "metadata": {
    "id": "rtkLMqQ9f-08",
    "outputId": "b3d538f7-43be-4882-ae57-bd009a95740f"
   },
   "outputs": [
    {
     "data": {
      "image/png": "[encoded data removed]",
      "text/plain": [
       "<Figure size 432x288 with 1 Axes>"
      ]
     },
     "metadata": {
      "needs_background": "light"
     },
     "output_type": "display_data"
    }
   ],
   "source": [
    "x = regparam\n",
    "y = rmse_reg\n",
    "plt.plot(x, y)\n",
    "plt.xlabel(\"Regularization Parameters\")\n",
    "plt.ylabel(\"RMSE\")\n",
    "plt.title(\"Accuracy with Different Regularization Parameters\")\n",
    "plt.show()"
   ]
  },
  {
   "cell_type": "markdown",
   "metadata": {
    "id": "Xz9HYiXQf-09"
   },
   "source": [
    "As we can see from the above plot, as we increase the regularization parameter, the RMSE of the model first decreases then increases. With the regularization parameter of 0.1, there is a minimum RMSE value of the model. "
   ]
  },
  {
   "cell_type": "markdown",
   "metadata": {
    "id": "yd9ljxpkf-09"
   },
   "source": [
    "Next, we are going to tune the other hyper parameter, the number of latent parameters (rank). The number of latent parameters represents the number of hidden factors of the dataset. For the movie dataset, hidden factors could be users' ages, sexes, or jobs. Having more hidden factors could increase the accuracy and complexity of the model at the same time. Thus, when tuning this hyper parameter, we aim at finding the balance point between accuracy and runtime."
   ]
  },
  {
   "cell_type": "code",
   "execution_count": 116,
   "metadata": {
    "id": "KMfO_ScSf-09",
    "outputId": "2686d375-2deb-4f69-8ad9-596d5cf6a38f"
   },
   "outputs": [
    {
     "name": "stdout",
     "output_type": "stream",
     "text": [
      "Rank = 10 Root-mean-square error =  0.8780838378680421\n",
      "Rank = 20 Root-mean-square error =  0.8759982381037924\n",
      "Rank = 30 Root-mean-square error =  0.8780350125417312\n",
      "Rank = 40 Root-mean-square error =  0.8752668900029613\n",
      "Rank = 50 Root-mean-square error =  0.8773805411004477\n",
      "Rank = 60 Root-mean-square error =  0.876640116775506\n",
      "Rank = 70 Root-mean-square error =  0.8765469810863279\n",
      "Rank = 80 Root-mean-square error =  0.8758769489864037\n",
      "Rank = 90 Root-mean-square error =  0.8765884172344629\n"
     ]
    }
   ],
   "source": [
    "regparam = 0.1\n",
    "rmse_rank = []\n",
    "rank = range(10, 100, 10)\n",
    "\n",
    "for r in rank:\n",
    "    als = ALS(userCol=\"userId\", itemCol=\"movieId\", ratingCol=\"rating\", \n",
    "          regParam=regparam, coldStartStrategy=\"drop\", rank=r)\n",
    "    rmse = fit_and_evaluate_mf(als, train_mf, validation_mf)\n",
    "    rmse_rank.append(rmse)\n",
    "    print(\"Rank =\", r, \"Root-mean-square error = \", str(rmse))"
   ]
  },
  {
   "cell_type": "code",
   "execution_count": 118,
   "metadata": {
    "id": "fut996ERf-09",
    "outputId": "40628d28-7b36-4216-f6d7-f3280dcf4265"
   },
   "outputs": [
    {
     "data": {
      "image/png": "[encoded data removed]",
      "text/plain": [
       "<Figure size 432x288 with 1 Axes>"
      ]
     },
     "metadata": {
      "needs_background": "light"
     },
     "output_type": "display_data"
    }
   ],
   "source": [
    "x = rank\n",
    "y = rmse_rank\n",
    "plt.plot(x, y)\n",
    "plt.xlabel(\"rank (number of latent factors)\")\n",
    "plt.ylabel(\"RMSE\")\n",
    "plt.title(\"Accuracy with Different Ranks\")\n",
    "plt.show()"
   ]
  },
  {
   "cell_type": "markdown",
   "metadata": {
    "id": "4NHnJlazf-09"
   },
   "source": [
    "We use the rank of 40. We could tell that the optimal parameter value is with rank equal to 20, regularization parameter equal to 0.1. "
   ]
  },
  {
   "cell_type": "markdown",
   "metadata": {
    "id": "g1cHLiAGf-0-"
   },
   "source": [
    "### Factorization Machine for users with large amount of ratings\n"
   ]
  },
  {
   "cell_type": "markdown",
   "metadata": {
    "id": "VfjCGb00KG-B"
   },
   "source": [
    "We implement the Factorization Machine to predict the rating of a movie by a user through package pyFM. The model may perform better than the Matrix Factorization model in the sense that it in addition incorporates side information in the training data set ('movie genres' in our case) to estimate movie ratings for users. \n",
    "\n",
    "We start by expanding the genre information into our dataframe and using dummy variables to represent the 19 kinds of genres, that is, if the movie belongs to a genre 'A', then the value to that corresponding column is 1, otherwise 0 (in function 'prepare_data_fm'). Then we convert the user id, movie id, movie ratings and movie genre information to the format of one hot encoding using OneHotEncoder function to train the model.\n"
   ]
  },
  {
   "cell_type": "code",
   "execution_count": 37,
   "metadata": {
    "id": "oBONaLtWf-0-"
   },
   "outputs": [],
   "source": [
    "def OneHotEncoding(train, test):\n",
    "    encoder = OneHotEncoder(handle_unknown='ignore').fit(train)\n",
    "    train_onehot = encoder.transform(train)\n",
    "    test_onehot = encoder.transform(test)\n",
    "    return train_onehot, test_onehot"
   ]
  },
  {
   "cell_type": "markdown",
   "metadata": {
    "id": "w2csBMsrtQZI"
   },
   "source": [
    "Call helper functions to transform data into the proper form that can be used for facterization machine."
   ]
  },
  {
   "cell_type": "code",
   "execution_count": 38,
   "metadata": {
    "id": "kEFd0eU_f-0-"
   },
   "outputs": [],
   "source": [
    "# Prepare data for Factorization Machine\n",
    "# use FM validation data for tuning\n",
    "X_train, y_train = prepare_data_fm(movie_sample,df_fm)\n",
    "X_val, y_val = prepare_data_fm(movie_sample,df_fm_validation)\n",
    "\n",
    "train_onehot, val_onehot = OneHotEncoding(X_train, X_val)"
   ]
  },
  {
   "cell_type": "markdown",
   "metadata": {
    "id": "iPE20JVfzRMB"
   },
   "source": [
    "#### Systematic Testing on Hyper Parameters of Factorization Machine"
   ]
  },
  {
   "cell_type": "markdown",
   "metadata": {
    "id": "VUqi_DuoIolO"
   },
   "source": [
    "To improve the accuracy of the model, we want to find the best parameter set. However, due to time limitation, we only focus on determining the dimentionality of the factorized 2-way interactions in the model fitting process. We compute the RMSE for the model separately using 'num_factor' of 8, 10, and 12. We still use rmse as the evaluation error metrics of the validation. After that, we conduct a plot to display the result."
   ]
  },
  {
   "cell_type": "code",
   "execution_count": 131,
   "metadata": {
    "id": "c3jtVmskf-0_"
   },
   "outputs": [
    {
     "name": "stdout",
     "output_type": "stream",
     "text": [
      "\n"
     ]
    }
   ],
   "source": [
    "# Tuning parameter 'num_factor'\n",
    "rmse_tuning_num_factors = []\n",
    "param = [8, 10, 12]\n",
    "for i in param:\n",
    "    fm = pylibfm.FM(num_factors=i, num_iter=10, verbose=True, task=\"regression\", \n",
    "                    initial_learning_rate= 0.0005, learning_rate_schedule=\"optimal\")\n",
    "    rmse = fit_and_evaluate_fm(fm, train_onehot, val_onehot, X_train, \n",
    "                               X_val, y_train, y_val)\n",
    "    rmse_tuning_num_factors.append(rmse)"
   ]
  },
  {
   "cell_type": "code",
   "execution_count": 135,
   "metadata": {
    "id": "3jR9koOjf-0_"
   },
   "outputs": [
    {
     "name": "stdout",
     "output_type": "stream",
     "text": [
      "factor number = 8 Root-mean-square error =  0.8973683247366779\n",
      "factor number = 10 Root-mean-square error =  0.8423116993426385\n",
      "factor number = 12 Root-mean-square error =  0.8336271820894319\n"
     ]
    }
   ],
   "source": [
    "# print out the results\n",
    "for i in range(len(param)):\n",
    "    print(\"factor number =\", param[i], \n",
    "          \"Root-mean-square error = \", str(rmse_tuning_num_factors[i]))"
   ]
  },
  {
   "cell_type": "code",
   "execution_count": 136,
   "metadata": {
    "id": "rxbU-KPKf-0_"
   },
   "outputs": [
    {
     "data": {
      "image/png": "[encoded data removed]",
      "text/plain": [
       "<Figure size 432x288 with 1 Axes>"
      ]
     },
     "metadata": {
      "needs_background": "light"
     },
     "output_type": "display_data"
    }
   ],
   "source": [
    "x = param\n",
    "y = rmse_tuning_num_factors\n",
    "plt.plot(x, y)\n",
    "plt.xlabel(\"Regularization Parameters\")\n",
    "plt.ylabel(\"RMSE\")\n",
    "plt.title(\"Accuracy with Different Regularization Parameters\")\n",
    "plt.show()"
   ]
  },
  {
   "cell_type": "markdown",
   "metadata": {
    "id": "pb5xQ1m6HD73"
   },
   "source": [
    "From the tuning result and graph, as the number of factors increases, RMSE decreases. However, the higher dimentionality takes a lot of memory and time. To balance running time and accuracy, we still choose 10 as the num_factor."
   ]
  },
  {
   "cell_type": "markdown",
   "metadata": {
    "id": "-kv7yVV8f-1A"
   },
   "source": [
    "## Final Model"
   ]
  },
  {
   "cell_type": "code",
   "execution_count": 141,
   "metadata": {
    "id": "ySsBBMmQIxZI"
   },
   "outputs": [
    {
     "name": "stdout",
     "output_type": "stream",
     "text": [
      "\n"
     ]
    }
   ],
   "source": [
    "# Evaluate the model performances on test set\n",
    "\n",
    "# Split users to 3 groups using content-based, matrix factorization, and factorization machine respectively\n",
    "test_df_content = test_df[test_df['userId'].isin(user_content)]\n",
    "test_df_mf = test_df[test_df['userId'].isin(user_mf)]\n",
    "test_df_fm = test_df[test_df['userId'].isin(user_fm)]\n",
    "\n",
    "# Transform the dataset for MF into Spark formats\n",
    "test_mf = spark.createDataFrame(test_df_mf)\n",
    "\n",
    "# Tranform the dataset for FM into OneHotEncoding Format\n",
    "\n",
    "X_test, y_test = prepare_data_fm(movie_sample,test_df_fm)\n",
    "train_onehot, test_onehot = OneHotEncoding(X_train, X_test)\n",
    "   \n",
    "\n",
    "# Apply models on test datasets\n",
    "\n",
    "# Content-Based Method\n",
    "content_final_df, user_profile_predict= content_base_model(movie_sample, df_content, movie_id_list, user_content, test_df_content)\n",
    "rmse_content = get_rmse(content_final_df)\n",
    "ndcg_content = get_ndcg(content_final_df)\n",
    "item_coverage_content, top_n_content = item_coverage_content(user_profile_predict, test_df_content, movie_id_list, n = 10)\n",
    "\n",
    "# Matrix Factorization Method\n",
    "als_final = ALS(rank=40, regParam=0.1, userCol=\"userId\", itemCol=\"movieId\", ratingCol=\"rating\", coldStartStrategy=\"drop\")\n",
    "rmse_mf, ndcg_mf, item_coverage_mf, predictions_mf = fit_and_evaluate_mf(als_final, train_mf, test_mf, ndcg = True, coverage = True)\n",
    "top_n_mf = get_top_n_mf(als_final, train_mf, test_mf, n=10)\n",
    "predictions_mf = predictions_mf.toPandas()\n",
    "\n",
    "\n",
    "# Factorization Machine Method\n",
    "fm = pylibfm.FM(num_factors=10, num_iter=10, verbose=True, task=\"regression\", initial_learning_rate=0.001, learning_rate_schedule=\"optimal\")\n",
    "rmse_fm, ndcg_fm, item_cov_fm, top10_fm, predictions_fm = fit_and_evaluate_fm(fm, train_onehot, test_onehot, X_train, X_test, \n",
    "                           y_train, y_test, ndcg = True, coverage = True)\n",
    "topn_fm = predict_and_rcmd_result_fm(predictions_fm)\n",
    "\n",
    "# Combine as a group to analyze the total RMSE, NDCG, and Item Coverage\n",
    "content_final_df.columns = ['uid', 'mid', 'rating', 'prediction']\n",
    "predictions_mf.columns = ['uid', 'mid', 'rating', 'prediction']\n",
    "predictions_fm.columns = ['uid', 'mid', 'rating', 'prediction']\n",
    "total_test_df = pd.concat([content_final_df, predictions_mf])\n",
    "total_test_df = pd.concat([total_test_df, predictions_fm])\n",
    "total_test_df = total_test_df.reset_index(drop=True)\n",
    "\n",
    "# Get top n predictions\n",
    "top_n_content.columns = ['uid', 'top_n']\n",
    "top_n_mf.columns = ['uid', 'top_n']\n",
    "topn_fm.columns = ['uid', 'top_n']\n",
    "total_top_n = pd.concat([top_n_content, top_n_mf])\n",
    "total_top_n = pd.concat([total_top_n, topn_fm])\n",
    "total_top_n = total_top_n.reset_index(drop=True)\n",
    "\n",
    "# Evaluate the whole dataset\n",
    "rmse_total = get_rmse(total_test_df)\n",
    "ndcg_total = get_ndcg(total_test_df)\n",
    "df_length = len(total_top_n)\n",
    "movie_recommended = set()\n",
    "for i in range(df_length):\n",
    "    movie_list = total_top_n.iloc[i]['top_n']\n",
    "    for movie_id in movie_list: \n",
    "        movie_recommended.add(movie_id)\n",
    "item_coverage_total = len(movie_recommended)/len(movie_id_list)\n"
   ]
  },
  {
   "cell_type": "code",
   "execution_count": 142,
   "metadata": {},
   "outputs": [
    {
     "name": "stdout",
     "output_type": "stream",
     "text": [
      "                                   RMSE      NDCG  Item Coverage\n",
      "Popularity Baseline            1.247556  0.773401            NaN\n",
      "Matrix Factorization Baseline  0.813231  0.794657       0.702566\n",
      "Hybrid System                  0.867772  0.773049       0.848084\n"
     ]
    }
   ],
   "source": [
    "d = {\"RMSE\": [popular_rmse, rmse_base_mf, rmse_total], \n",
    "     \"NDCG\": [popular_ndcg, ndcg_base_mf, ndcg_total], \n",
    "     \"Item Coverage\": [np.NaN, item_coverage_base_mf, item_coverage_total]}\n",
    "product = pd.DataFrame(data = d, index = [\"Popularity Baseline\", \"Matrix Factorization Baseline\", \"Hybrid System\"])\n",
    "print(product)"
   ]
  },
  {
   "cell_type": "markdown",
   "metadata": {},
   "source": [
    "### Final Result Comparison\n",
    "Now we finally get the result for our final hybrid model. If we look at the values of the evaluation metrics for the hybrid model, our hybrid model has a relatively small RMSE at aroung 0.87 and a relatively high NDCG rate at aroung 0.78 and item coverage rate at around 0.84, This result shows that our hybrid model beats the baseline model on popularity with a RMSE at 1.23 and a NDCG value at 0.77. Though we do not compute the item coverage rate for the baseline model on popularity, the item coverage rate for our hybrid model is definitely higher that the baseline model on popularity. This is because the baseline on popularity recommends same top n popular movies for all users and the item coverage is n/(total movie number), which is a relatively small number. Therefore, our hybrid model performs much better the the baseline model on popularity. \n",
    "\n",
    "However, our hybrid model doesn't beat the single matrix facterization model as a baseline model regarding RMSE and NDCG value. This is explainable because implement content-based algorithm and facterizaion machine algorithm in our hybrid model.\n",
    "\n",
    "For the content-based algorithm, we use genre to generate the movie similarity matrix. However, the total number of genres that we can use is only 19, which does not contain all the movie genre. Besides, only genre itself is less informative than short reviews or descriptive tags to summerize the characteristics of a movie. Moreover, in order to use content-based algorithm to solve user cold-start problem, we need the user profile to be informative enough to generate the interaction sbetween users and movie genres. However, since we apply content-based algorithm for users with less than 10 ratings, we cannot generate a detailed profile for these users and we have no access to a third party data matching. As for the facterization machine algorithm, we only add genre as a new variable in the model. More varaibles such as movie released year and tags can be include and new hyper-parameter can be tuned to generate a more accurate model.\n",
    "\n",
    "However, our model beats the matrix facterization baseline model regarding the item coverage rate since we combine the results of all three algorithms. \n",
    "\n",
    "Overall, our switching hybrid model performs relatively well and meets our expectation."
   ]
  },
  {
   "cell_type": "markdown",
   "metadata": {
    "id": "PJAQg4zFuU1V"
   },
   "source": [
    "## Potential Model Improvement\n",
    "\n",
    "#### User Profile\n",
    "Even though our switching hybrid model works for users in different groups based on their number of ratings, an informative profile for cold-start users or users with very few ratings is preferred. This is bacuase in the step of building user profile in the content-based algorithm, a more complete user profile will give more information on the interactions and preferences of users on movie and genre and thus will greatly increasing the accuracy or our content-based algorithm. In practical business operation, we can access this profile information through third party data matching.\n",
    "\n",
    "#### More Data on Movies for Content-based and Facterization Machine Algorithm\n",
    "Currently, due to run-time and computing power constriant, we only add genres of movies in the content-based and facterization machine algorithm. However, only genre is not informative enough for a comprehensive model in practise and more information and reviews of movies can be used in the content-based and facterization machine algorithm. For example, if a more informative tag or short review is given for each movie, then we can use the information to contruct a complex movie similariry matrix and complete user profile in the content-based algorithm and thus build a more accurate model, but run time complexity is still a factor to be considered while choosing informative message to utilize. Moreover, we can add the released year of each movie in the facterization machine algorithm and enrich the interactions between differnt characteristics of movies.\n",
    "\n",
    "#### Filtering the final recommendation\n",
    "In practise, additional laws and rules such as \"do not recommend horror movies to kids\" should be utilized in the recommendation system. To achieve this, we need to add a filtering method on the recommendation built by our model and update it before giving the final recommendation. To build the filering method, more information on movie and user profile is needed. \n",
    "\n",
    "#### Dynamic Update and Recommendaiotn\n",
    "In real-world buisiness operation, new movies come out frequently and users' taset may change day by day. Therefore, practical recommendation system needs to be dynamic. Our content-based model can solve recommendation for new movies once the information of movies such as genre is provided. However, our model can still be improved by thinking how to add users' most recent ratings as well as enriching the user profile for the existing recommendation system and update our prediction algorithms and the recommadation list accordingly."
   ]
  }
 ],
 "metadata": {
  "colab": {
   "collapsed_sections": [],
   "name": "Final_Project_Version1.ipynb",
   "provenance": []
  },
  "kernelspec": {
   "display_name": "Python 3",
   "language": "python",
   "name": "python3"
  },
  "language_info": {
   "codemirror_mode": {
    "name": "ipython",
    "version": 3
   },
   "file_extension": ".py",
   "mimetype": "text/x-python",
   "name": "python",
   "nbconvert_exporter": "python",
   "pygments_lexer": "ipython3",
   "version": "3.8.3"
  }
 },
 "nbformat": 4,
 "nbformat_minor": 1
}
